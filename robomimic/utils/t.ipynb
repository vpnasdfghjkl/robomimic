{
 "cells": [
  {
   "cell_type": "code",
   "execution_count": null,
   "metadata": {},
   "outputs": [],
   "source": [
    "def flatten_nested_dict_list(d, parent_key='', sep='_', item_key=''):\n",
    "    \"\"\"\n",
    "    Flatten a nested dict or list to a list.\n",
    "\n",
    "    For example, given a dict\n",
    "    {\n",
    "        a: 1\n",
    "        b: {\n",
    "            c: 2\n",
    "        }\n",
    "        c: 3\n",
    "    }\n",
    "\n",
    "    the function would return [(a, 1), (b_c, 2), (c, 3)]\n",
    "\n",
    "    Args:\n",
    "        d (dict, list): a nested dict or list to be flattened\n",
    "        parent_key (str): recursion helper\n",
    "        sep (str): separator for nesting keys\n",
    "        item_key (str): recursion helper\n",
    "    Returns:\n",
    "        list: a list of (key, value) tuples\n",
    "    \"\"\"\n",
    "    items = []\n",
    "    if isinstance(d, (tuple, list)):\n",
    "        new_key = parent_key + sep + item_key if len(parent_key) > 0 else item_key\n",
    "        for i, v in enumerate(d):\n",
    "            items.extend(flatten_nested_dict_list(v, new_key, sep=sep, item_key=str(i)))\n",
    "        return items\n",
    "    elif isinstance(d, dict):\n",
    "        new_key = parent_key + sep + item_key if len(parent_key) > 0 else item_key\n",
    "        for k, v in d.items():\n",
    "            assert isinstance(k, str)\n",
    "            items.extend(flatten_nested_dict_list(v, new_key, sep=sep, item_key=k))\n",
    "        return items\n",
    "    else:\n",
    "        new_key = parent_key + sep + item_key if len(parent_key) > 0 else item_key\n",
    "        return [(new_key, d)]\n",
    "\n",
    "test_dict = {\n",
    "    'a': 1,\n",
    "    'b': {\n",
    "        'c': 2\n",
    "    },\n",
    "    'c': 3\n",
    "}\n",
    "\n",
    "print(flatten_nested_dict_list(test_dict))"
   ]
  },
  {
   "cell_type": "code",
   "execution_count": 8,
   "metadata": {},
   "outputs": [
    {
     "name": "stdout",
     "output_type": "stream",
     "text": [
      "[('a', 1), ('b_c', 2), ('c', 3)]\n"
     ]
    }
   ],
   "source": [
    "def flatten_dict(d, parent_key = \"\", sep = \"_\", item_key = \"\"):\n",
    "    item = []\n",
    "    if isinstance(d, dict):\n",
    "        new_key = parent_key + sep + item_key if parent_key != \"\" else item_key\n",
    "        for k, v in d.items():\n",
    "            item.extend(flatten_dict(v, new_key, sep, k))\n",
    "        return item\n",
    "    else:\n",
    "        new_key = parent_key + sep + item_key if parent_key != \"\" else item_key\n",
    "        return [(new_key, d)]\n",
    "\n",
    "test_dict = {\n",
    "    'a': 1,\n",
    "    'b': {\n",
    "        'c': 2\n",
    "    },\n",
    "    'c': 3\n",
    "}\n",
    "\n",
    "print(flatten_dict(test_dict))"
   ]
  },
  {
   "cell_type": "code",
   "execution_count": 105,
   "metadata": {},
   "outputs": [
    {
     "name": "stdout",
     "output_type": "stream",
     "text": [
      "A: output shape ><\n"
     ]
    }
   ],
   "source": [
    "class B(object):\n",
    "    def __init__(self) -> None:\n",
    "        pass\n",
    "\n",
    "    def out_shape(self):\n",
    "        print(\"B: output shape\")\n",
    "        # raise NotImplementedError\n",
    "    \n",
    "    def temp(self):\n",
    "        self.out_shape()\n",
    "    \n",
    "    def forward(self):\n",
    "        self.out_shape()\n",
    "    \n",
    "class A(B):\n",
    "    def __init__(self) -> None:\n",
    "        super(A, self).__init__()\n",
    "        \n",
    "    def out_shape(self):\n",
    "        print(\"A: output shape ><\")\n",
    "    \n",
    "    def temp(self):  # Add self parameter here\n",
    "        print(\"here\")\n",
    "        \n",
    "    def super_output(self):\n",
    "        s = super(A, self).forward()\n",
    "        # print(s)\n",
    "        \n",
    "a = A()  # Instantiate the class\n",
    "a.super_output()"
   ]
  },
  {
   "cell_type": "code",
   "execution_count": 118,
   "metadata": {},
   "outputs": [
    {
     "name": "stdout",
     "output_type": "stream",
     "text": [
      "A: output shape ><\n"
     ]
    }
   ],
   "source": [
    "a = eval(\"A\")()\n",
    "a.super_output()"
   ]
  },
  {
   "cell_type": "code",
   "execution_count": 2,
   "metadata": {},
   "outputs": [],
   "source": [
    "class C:\n",
    "    def __init__(self) -> None:\n",
    "        print(\"C, init\")\n"
   ]
  },
  {
   "cell_type": "code",
   "execution_count": 3,
   "metadata": {},
   "outputs": [
    {
     "ename": "ModuleNotFoundError",
     "evalue": "No module named 'C'",
     "output_type": "error",
     "traceback": [
      "\u001b[0;31m---------------------------------------------------------------------------\u001b[0m",
      "\u001b[0;31mModuleNotFoundError\u001b[0m                       Traceback (most recent call last)",
      "Cell \u001b[0;32mIn[3], line 1\u001b[0m\n\u001b[0;32m----> 1\u001b[0m \u001b[38;5;28;01mimport\u001b[39;00m \u001b[38;5;21;01mC\u001b[39;00m\n",
      "\u001b[0;31mModuleNotFoundError\u001b[0m: No module named 'C'"
     ]
    }
   ],
   "source": [
    "import C"
   ]
  }
 ],
 "metadata": {
  "kernelspec": {
   "display_name": "robomimic_venv",
   "language": "python",
   "name": "python3"
  },
  "language_info": {
   "codemirror_mode": {
    "name": "ipython",
    "version": 3
   },
   "file_extension": ".py",
   "mimetype": "text/x-python",
   "name": "python",
   "nbconvert_exporter": "python",
   "pygments_lexer": "ipython3",
   "version": "3.8.18"
  }
 },
 "nbformat": 4,
 "nbformat_minor": 2
}
